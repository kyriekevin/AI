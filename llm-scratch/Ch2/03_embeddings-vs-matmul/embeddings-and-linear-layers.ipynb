{
 "cells": [
  {
   "cell_type": "code",
   "execution_count": 1,
   "metadata": {},
   "outputs": [
    {
     "name": "stderr",
     "output_type": "stream",
     "text": [
      "ic| torch.__version__: '2.3.1'\n"
     ]
    },
    {
     "data": {
      "text/plain": [
       "'2.3.1'"
      ]
     },
     "execution_count": 1,
     "metadata": {},
     "output_type": "execute_result"
    }
   ],
   "source": [
    "import torch\n",
    "from icecream import ic\n",
    "\n",
    "ic(torch.__version__)"
   ]
  },
  {
   "cell_type": "code",
   "execution_count": 2,
   "metadata": {},
   "outputs": [],
   "source": [
    "idx = torch.tensor([2, 3, 1])\n",
    "num_idx = max(idx) + 1\n",
    "out_dim = 5"
   ]
  },
  {
   "cell_type": "code",
   "execution_count": 3,
   "metadata": {},
   "outputs": [
    {
     "data": {
      "text/plain": [
       "Parameter containing:\n",
       "tensor([[ 0.0648, -0.7227, -0.7643,  0.9232, -1.4324],\n",
       "        [ 0.9932,  0.0806, -1.2377,  0.1923,  0.1334],\n",
       "        [-0.5778, -0.0934,  0.9363, -0.7128,  1.7307],\n",
       "        [ 0.9606, -1.0155,  0.7749, -0.3227, -1.3694]], requires_grad=True)"
      ]
     },
     "execution_count": 3,
     "metadata": {},
     "output_type": "execute_result"
    }
   ],
   "source": [
    "torch.manual_seed(39)\n",
    "embedding = torch.nn.Embedding(num_idx, out_dim)\n",
    "embedding.weight"
   ]
  },
  {
   "cell_type": "code",
   "execution_count": 4,
   "metadata": {},
   "outputs": [
    {
     "data": {
      "text/plain": [
       "tensor([[ 0.9932,  0.0806, -1.2377,  0.1923,  0.1334]],\n",
       "       grad_fn=<EmbeddingBackward0>)"
      ]
     },
     "execution_count": 4,
     "metadata": {},
     "output_type": "execute_result"
    }
   ],
   "source": [
    "embedding(torch.tensor([1]))"
   ]
  },
  {
   "cell_type": "code",
   "execution_count": 5,
   "metadata": {},
   "outputs": [
    {
     "data": {
      "text/plain": [
       "tensor([[-0.5778, -0.0934,  0.9363, -0.7128,  1.7307],\n",
       "        [ 0.9606, -1.0155,  0.7749, -0.3227, -1.3694],\n",
       "        [ 0.9932,  0.0806, -1.2377,  0.1923,  0.1334]],\n",
       "       grad_fn=<EmbeddingBackward0>)"
      ]
     },
     "execution_count": 5,
     "metadata": {},
     "output_type": "execute_result"
    }
   ],
   "source": [
    "embedding(idx)"
   ]
  },
  {
   "cell_type": "code",
   "execution_count": 6,
   "metadata": {},
   "outputs": [
    {
     "name": "stderr",
     "output_type": "stream",
     "text": [
      "ic| onehot: tensor([[0, 0, 1, 0],\n",
      "                    [0, 0, 0, 1],\n",
      "                    [0, 1, 0, 0]])\n"
     ]
    },
    {
     "data": {
      "text/plain": [
       "tensor([[0, 0, 1, 0],\n",
       "        [0, 0, 0, 1],\n",
       "        [0, 1, 0, 0]])"
      ]
     },
     "execution_count": 6,
     "metadata": {},
     "output_type": "execute_result"
    }
   ],
   "source": [
    "onehot = torch.nn.functional.one_hot(idx)\n",
    "ic(onehot)"
   ]
  },
  {
   "cell_type": "code",
   "execution_count": 7,
   "metadata": {},
   "outputs": [
    {
     "data": {
      "text/plain": [
       "Parameter containing:\n",
       "tensor([[-0.4964, -0.0493, -0.2379, -0.1464],\n",
       "        [-0.4771,  0.4237, -0.2552, -0.3650],\n",
       "        [-0.3875, -0.1352,  0.0317,  0.4756],\n",
       "        [ 0.2606, -0.1501,  0.1901, -0.3666],\n",
       "        [ 0.4745, -0.1614,  0.4700,  0.2483]], requires_grad=True)"
      ]
     },
     "execution_count": 7,
     "metadata": {},
     "output_type": "execute_result"
    }
   ],
   "source": [
    "torch.manual_seed(39)\n",
    "linear = torch.nn.Linear(num_idx, out_dim, bias=False)\n",
    "linear.weight"
   ]
  },
  {
   "cell_type": "code",
   "execution_count": 8,
   "metadata": {},
   "outputs": [],
   "source": [
    "linear.weight = torch.nn.Parameter(embedding.weight.T)"
   ]
  },
  {
   "cell_type": "code",
   "execution_count": 9,
   "metadata": {},
   "outputs": [
    {
     "data": {
      "text/plain": [
       "tensor([[-0.5778, -0.0934,  0.9363, -0.7128,  1.7307],\n",
       "        [ 0.9606, -1.0155,  0.7749, -0.3227, -1.3694],\n",
       "        [ 0.9932,  0.0806, -1.2377,  0.1923,  0.1334]], grad_fn=<MmBackward0>)"
      ]
     },
     "execution_count": 9,
     "metadata": {},
     "output_type": "execute_result"
    }
   ],
   "source": [
    "linear(onehot.float())"
   ]
  },
  {
   "cell_type": "code",
   "execution_count": 10,
   "metadata": {},
   "outputs": [
    {
     "data": {
      "text/plain": [
       "tensor([[-0.5778, -0.0934,  0.9363, -0.7128,  1.7307],\n",
       "        [ 0.9606, -1.0155,  0.7749, -0.3227, -1.3694],\n",
       "        [ 0.9932,  0.0806, -1.2377,  0.1923,  0.1334]],\n",
       "       grad_fn=<EmbeddingBackward0>)"
      ]
     },
     "execution_count": 10,
     "metadata": {},
     "output_type": "execute_result"
    }
   ],
   "source": [
    "embedding(idx)"
   ]
  }
 ],
 "metadata": {
  "kernelspec": {
   "display_name": "LLMs",
   "language": "python",
   "name": "python3"
  },
  "language_info": {
   "codemirror_mode": {
    "name": "ipython",
    "version": 3
   },
   "file_extension": ".py",
   "mimetype": "text/x-python",
   "name": "python",
   "nbconvert_exporter": "python",
   "pygments_lexer": "ipython3",
   "version": "3.10.14"
  }
 },
 "nbformat": 4,
 "nbformat_minor": 2
}
