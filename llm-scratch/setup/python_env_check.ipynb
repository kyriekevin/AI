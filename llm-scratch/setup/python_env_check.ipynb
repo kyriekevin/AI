{
 "cells": [
  {
   "cell_type": "code",
   "execution_count": 1,
   "metadata": {},
   "outputs": [
    {
     "name": "stdout",
     "output_type": "stream",
     "text": [
      "[OK] Your Python version is 3.10.14\n",
      "[OK] torch 2.3.1\n",
      "[OK] jupyterlab 4.2.4\n",
      "[OK] tiktoken 0.7.0\n",
      "[OK] matplotlib 3.9.1\n",
      "[OK] tensorflow 2.17.0\n",
      "[OK] tqdm 4.66.4\n",
      "[OK] numpy 1.26.4\n",
      "[OK] pandas 2.2.2\n",
      "[OK] psutil 6.0.0\n"
     ]
    }
   ],
   "source": [
    "from python_env_check import check_packages, get_requirements_dict\n",
    "\n",
    "d = get_requirements_dict()\n",
    "check_packages(d)"
   ]
  }
 ],
 "metadata": {
  "kernelspec": {
   "display_name": "LLMs",
   "language": "python",
   "name": "python3"
  },
  "language_info": {
   "codemirror_mode": {
    "name": "ipython",
    "version": 3
   },
   "file_extension": ".py",
   "mimetype": "text/x-python",
   "name": "python",
   "nbconvert_exporter": "python",
   "pygments_lexer": "ipython3",
   "version": "3.10.14"
  }
 },
 "nbformat": 4,
 "nbformat_minor": 2
}
